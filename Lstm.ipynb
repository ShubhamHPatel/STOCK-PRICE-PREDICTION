{
 "cells": [
  {
   "cell_type": "markdown",
   "metadata": {},
   "source": [
    "### Stock Market Prediction And Forecasting Using Stacked LSTM"
   ]
  },
  {
   "cell_type": "code",
   "execution_count": null,
   "metadata": {},
   "outputs": [],
   "source": [
    "### Keras and Tensorflow >2.0"
   ]
  },
  {
   "cell_type": "code",
   "execution_count": 403,
   "metadata": {},
   "outputs": [],
   "source": [
    "### Data Collection\n",
    "import pandas_datareader as pdr\n",
    "key=\"\""
   ]
  },
  {
   "cell_type": "code",
   "execution_count": 404,
   "metadata": {},
   "outputs": [],
   "source": [
    "df = pdr.get_data_tiingo('AAPL', api_key=key)"
   ]
  },
  {
   "cell_type": "code",
   "execution_count": 283,
   "metadata": {},
   "outputs": [],
   "source": [
    "df.to_csv('AAPL.csv')"
   ]
  },
  {
   "cell_type": "code",
   "execution_count": 1,
   "metadata": {},
   "outputs": [],
   "source": [
    "import pandas as pd"
   ]
  },
  {
   "cell_type": "code",
   "execution_count": 2,
   "metadata": {},
   "outputs": [],
   "source": [
    "df=pd.read_csv('./data/ONGC.csv')"
   ]
  },
  {
   "cell_type": "code",
   "execution_count": 3,
   "metadata": {},
   "outputs": [
    {
     "data": {
      "text/html": [
       "<div>\n",
       "<style scoped>\n",
       "    .dataframe tbody tr th:only-of-type {\n",
       "        vertical-align: middle;\n",
       "    }\n",
       "\n",
       "    .dataframe tbody tr th {\n",
       "        vertical-align: top;\n",
       "    }\n",
       "\n",
       "    .dataframe thead th {\n",
       "        text-align: right;\n",
       "    }\n",
       "</style>\n",
       "<table border=\"1\" class=\"dataframe\">\n",
       "  <thead>\n",
       "    <tr style=\"text-align: right;\">\n",
       "      <th></th>\n",
       "      <th>Date</th>\n",
       "      <th>Prev Close</th>\n",
       "      <th>Open</th>\n",
       "      <th>High</th>\n",
       "      <th>Low</th>\n",
       "      <th>Close</th>\n",
       "      <th>Volume</th>\n",
       "    </tr>\n",
       "  </thead>\n",
       "  <tbody>\n",
       "    <tr>\n",
       "      <th>0</th>\n",
       "      <td>1/3/2000</td>\n",
       "      <td>207.70</td>\n",
       "      <td>205.0</td>\n",
       "      <td>214.4</td>\n",
       "      <td>205.0</td>\n",
       "      <td>213.45</td>\n",
       "      <td>9600</td>\n",
       "    </tr>\n",
       "    <tr>\n",
       "      <th>1</th>\n",
       "      <td>1/4/2000</td>\n",
       "      <td>213.45</td>\n",
       "      <td>201.5</td>\n",
       "      <td>209.7</td>\n",
       "      <td>201.0</td>\n",
       "      <td>206.55</td>\n",
       "      <td>17900</td>\n",
       "    </tr>\n",
       "    <tr>\n",
       "      <th>2</th>\n",
       "      <td>1/5/2000</td>\n",
       "      <td>206.55</td>\n",
       "      <td>201.0</td>\n",
       "      <td>223.1</td>\n",
       "      <td>200.5</td>\n",
       "      <td>223.10</td>\n",
       "      <td>27000</td>\n",
       "    </tr>\n",
       "    <tr>\n",
       "      <th>3</th>\n",
       "      <td>1/6/2000</td>\n",
       "      <td>223.10</td>\n",
       "      <td>234.0</td>\n",
       "      <td>234.9</td>\n",
       "      <td>217.6</td>\n",
       "      <td>219.30</td>\n",
       "      <td>35600</td>\n",
       "    </tr>\n",
       "    <tr>\n",
       "      <th>4</th>\n",
       "      <td>1/7/2000</td>\n",
       "      <td>219.30</td>\n",
       "      <td>223.0</td>\n",
       "      <td>223.0</td>\n",
       "      <td>213.0</td>\n",
       "      <td>215.75</td>\n",
       "      <td>11400</td>\n",
       "    </tr>\n",
       "  </tbody>\n",
       "</table>\n",
       "</div>"
      ],
      "text/plain": [
       "       Date  Prev Close   Open   High    Low   Close  Volume\n",
       "0  1/3/2000      207.70  205.0  214.4  205.0  213.45    9600\n",
       "1  1/4/2000      213.45  201.5  209.7  201.0  206.55   17900\n",
       "2  1/5/2000      206.55  201.0  223.1  200.5  223.10   27000\n",
       "3  1/6/2000      223.10  234.0  234.9  217.6  219.30   35600\n",
       "4  1/7/2000      219.30  223.0  223.0  213.0  215.75   11400"
      ]
     },
     "execution_count": 3,
     "metadata": {},
     "output_type": "execute_result"
    }
   ],
   "source": [
    "df.head()"
   ]
  },
  {
   "cell_type": "code",
   "execution_count": 4,
   "metadata": {},
   "outputs": [
    {
     "data": {
      "text/html": [
       "<div>\n",
       "<style scoped>\n",
       "    .dataframe tbody tr th:only-of-type {\n",
       "        vertical-align: middle;\n",
       "    }\n",
       "\n",
       "    .dataframe tbody tr th {\n",
       "        vertical-align: top;\n",
       "    }\n",
       "\n",
       "    .dataframe thead th {\n",
       "        text-align: right;\n",
       "    }\n",
       "</style>\n",
       "<table border=\"1\" class=\"dataframe\">\n",
       "  <thead>\n",
       "    <tr style=\"text-align: right;\">\n",
       "      <th></th>\n",
       "      <th>Date</th>\n",
       "      <th>Prev Close</th>\n",
       "      <th>Open</th>\n",
       "      <th>High</th>\n",
       "      <th>Low</th>\n",
       "      <th>Close</th>\n",
       "      <th>Volume</th>\n",
       "    </tr>\n",
       "  </thead>\n",
       "  <tbody>\n",
       "    <tr>\n",
       "      <th>5301</th>\n",
       "      <td>4/26/2021</td>\n",
       "      <td>102.40</td>\n",
       "      <td>105.25</td>\n",
       "      <td>105.7</td>\n",
       "      <td>102.50</td>\n",
       "      <td>102.80</td>\n",
       "      <td>11797791</td>\n",
       "    </tr>\n",
       "    <tr>\n",
       "      <th>5302</th>\n",
       "      <td>4/27/2021</td>\n",
       "      <td>102.80</td>\n",
       "      <td>102.80</td>\n",
       "      <td>104.0</td>\n",
       "      <td>102.80</td>\n",
       "      <td>103.20</td>\n",
       "      <td>8886250</td>\n",
       "    </tr>\n",
       "    <tr>\n",
       "      <th>5303</th>\n",
       "      <td>4/28/2021</td>\n",
       "      <td>103.20</td>\n",
       "      <td>103.75</td>\n",
       "      <td>104.4</td>\n",
       "      <td>103.30</td>\n",
       "      <td>103.90</td>\n",
       "      <td>6887787</td>\n",
       "    </tr>\n",
       "    <tr>\n",
       "      <th>5304</th>\n",
       "      <td>4/29/2021</td>\n",
       "      <td>103.90</td>\n",
       "      <td>104.90</td>\n",
       "      <td>105.9</td>\n",
       "      <td>103.55</td>\n",
       "      <td>104.05</td>\n",
       "      <td>14990087</td>\n",
       "    </tr>\n",
       "    <tr>\n",
       "      <th>5305</th>\n",
       "      <td>4/30/2021</td>\n",
       "      <td>104.05</td>\n",
       "      <td>104.15</td>\n",
       "      <td>112.7</td>\n",
       "      <td>103.30</td>\n",
       "      <td>108.15</td>\n",
       "      <td>81358264</td>\n",
       "    </tr>\n",
       "  </tbody>\n",
       "</table>\n",
       "</div>"
      ],
      "text/plain": [
       "           Date  Prev Close    Open   High     Low   Close    Volume\n",
       "5301  4/26/2021      102.40  105.25  105.7  102.50  102.80  11797791\n",
       "5302  4/27/2021      102.80  102.80  104.0  102.80  103.20   8886250\n",
       "5303  4/28/2021      103.20  103.75  104.4  103.30  103.90   6887787\n",
       "5304  4/29/2021      103.90  104.90  105.9  103.55  104.05  14990087\n",
       "5305  4/30/2021      104.05  104.15  112.7  103.30  108.15  81358264"
      ]
     },
     "execution_count": 4,
     "metadata": {},
     "output_type": "execute_result"
    }
   ],
   "source": [
    "df.tail()"
   ]
  },
  {
   "cell_type": "code",
   "execution_count": 8,
   "metadata": {},
   "outputs": [],
   "source": [
    "df1=df.reset_index()['Close']"
   ]
  },
  {
   "cell_type": "code",
   "execution_count": 9,
   "metadata": {},
   "outputs": [
    {
     "data": {
      "text/plain": [
       "0       213.45\n",
       "1       206.55\n",
       "2       223.10\n",
       "3       219.30\n",
       "4       215.75\n",
       "         ...  \n",
       "5301    102.80\n",
       "5302    103.20\n",
       "5303    103.90\n",
       "5304    104.05\n",
       "5305    108.15\n",
       "Name: Close, Length: 5306, dtype: float64"
      ]
     },
     "execution_count": 9,
     "metadata": {},
     "output_type": "execute_result"
    }
   ],
   "source": [
    "df1"
   ]
  },
  {
   "cell_type": "code",
   "execution_count": 10,
   "metadata": {},
   "outputs": [
    {
     "data": {
      "text/plain": [
       "[<matplotlib.lines.Line2D at 0x27f90f36d30>]"
      ]
     },
     "execution_count": 10,
     "metadata": {},
     "output_type": "execute_result"
    },
    {
     "data": {
      "image/png": "[encoded data removed]",
      "text/plain": [
       "<Figure size 432x288 with 1 Axes>"
      ]
     },
     "metadata": {
      "needs_background": "light"
     },
     "output_type": "display_data"
    }
   ],
   "source": [
    "import matplotlib.pyplot as plt\n",
    "plt.plot(df1)"
   ]
  },
  {
   "cell_type": "code",
   "execution_count": 11,
   "metadata": {},
   "outputs": [],
   "source": [
    "### LSTM are sensitive to the scale of the data. so we apply MinMax scaler "
   ]
  },
  {
   "cell_type": "code",
   "execution_count": 12,
   "metadata": {},
   "outputs": [],
   "source": [
    "import numpy as np"
   ]
  },
  {
   "cell_type": "code",
   "execution_count": 13,
   "metadata": {},
   "outputs": [
    {
     "data": {
      "text/plain": [
       "0       213.45\n",
       "1       206.55\n",
       "2       223.10\n",
       "3       219.30\n",
       "4       215.75\n",
       "         ...  \n",
       "5301    102.80\n",
       "5302    103.20\n",
       "5303    103.90\n",
       "5304    104.05\n",
       "5305    108.15\n",
       "Name: Close, Length: 5306, dtype: float64"
      ]
     },
     "execution_count": 13,
     "metadata": {},
     "output_type": "execute_result"
    }
   ],
   "source": [
    "df1"
   ]
  },
  {
   "cell_type": "code",
   "execution_count": 14,
   "metadata": {},
   "outputs": [],
   "source": [
    "from sklearn.preprocessing import MinMaxScaler\n",
    "scaler=MinMaxScaler(feature_range=(0,1))\n",
    "df1=scaler.fit_transform(np.array(df1).reshape(-1,1))"
   ]
  },
  {
   "cell_type": "code",
   "execution_count": 15,
   "metadata": {},
   "outputs": [
    {
     "name": "stdout",
     "output_type": "stream",
     "text": [
      "[[0.1077447 ]\n",
      " [0.10289987]\n",
      " [0.11452043]\n",
      " ...\n",
      " [0.03082432]\n",
      " [0.03092964]\n",
      " [0.03380845]]\n"
     ]
    }
   ],
   "source": [
    "print(df1)"
   ]
  },
  {
   "cell_type": "code",
   "execution_count": 16,
   "metadata": {},
   "outputs": [],
   "source": [
    "##splitting dataset into train and test split\n",
    "training_size=int(len(df1)*0.65)\n",
    "test_size=len(df1)-training_size\n",
    "train_data,test_data=df1[0:training_size,:],df1[training_size:len(df1),:1]"
   ]
  },
  {
   "cell_type": "code",
   "execution_count": 17,
   "metadata": {},
   "outputs": [
    {
     "data": {
      "text/plain": [
       "(3448, 1858)"
      ]
     },
     "execution_count": 17,
     "metadata": {},
     "output_type": "execute_result"
    }
   ],
   "source": [
    "training_size,test_size"
   ]
  },
  {
   "cell_type": "code",
   "execution_count": 18,
   "metadata": {},
   "outputs": [
    {
     "data": {
      "text/plain": [
       "array([[0.1077447 ],\n",
       "       [0.10289987],\n",
       "       [0.11452043],\n",
       "       ...,\n",
       "       [0.15696531],\n",
       "       [0.15815897],\n",
       "       [0.15872069]])"
      ]
     },
     "execution_count": 18,
     "metadata": {},
     "output_type": "execute_result"
    }
   ],
   "source": [
    "train_data"
   ]
  },
  {
   "cell_type": "code",
   "execution_count": 19,
   "metadata": {},
   "outputs": [],
   "source": [
    "import numpy\n",
    "# convert an array of values into a dataset matrix\n",
    "def create_dataset(dataset, time_step=1):\n",
    "\tdataX, dataY = [], []\n",
    "\tfor i in range(len(dataset)-time_step-1):\n",
    "\t\ta = dataset[i:(i+time_step), 0]   ###i=0, 0,1,2,3-----99   100 \n",
    "\t\tdataX.append(a)\n",
    "\t\tdataY.append(dataset[i + time_step, 0])\n",
    "\treturn numpy.array(dataX), numpy.array(dataY)"
   ]
  },
  {
   "cell_type": "code",
   "execution_count": 20,
   "metadata": {},
   "outputs": [],
   "source": [
    "# reshape into X=t,t+1,t+2,t+3 and Y=t+4\n",
    "time_step = 100\n",
    "X_train, y_train = create_dataset(train_data, time_step)\n",
    "X_test, ytest = create_dataset(test_data, time_step)"
   ]
  },
  {
   "cell_type": "code",
   "execution_count": 21,
   "metadata": {},
   "outputs": [
    {
     "name": "stdout",
     "output_type": "stream",
     "text": [
      "(3347, 100)\n",
      "(3347,)\n"
     ]
    },
    {
     "data": {
      "text/plain": [
       "(None, None)"
      ]
     },
     "execution_count": 21,
     "metadata": {},
     "output_type": "execute_result"
    }
   ],
   "source": [
    "print(X_train.shape), print(y_train.shape)"
   ]
  },
  {
   "cell_type": "code",
   "execution_count": 22,
   "metadata": {},
   "outputs": [
    {
     "name": "stdout",
     "output_type": "stream",
     "text": [
      "(1757, 100)\n",
      "(1757,)\n"
     ]
    },
    {
     "data": {
      "text/plain": [
       "(None, None)"
      ]
     },
     "execution_count": 22,
     "metadata": {},
     "output_type": "execute_result"
    }
   ],
   "source": [
    "print(X_test.shape), print(ytest.shape)"
   ]
  },
  {
   "cell_type": "code",
   "execution_count": 23,
   "metadata": {},
   "outputs": [],
   "source": [
    "# reshape input to be [samples, time steps, features] which is required for LSTM\n",
    "X_train =X_train.reshape(X_train.shape[0],X_train.shape[1] , 1)\n",
    "X_test = X_test.reshape(X_test.shape[0],X_test.shape[1] , 1)"
   ]
  },
  {
   "cell_type": "code",
   "execution_count": 24,
   "metadata": {},
   "outputs": [],
   "source": [
    "### Create the Stacked LSTM model\n",
    "from tensorflow.keras.models import Sequential\n",
    "from tensorflow.keras.layers import Dense\n",
    "from tensorflow.keras.layers import LSTM"
   ]
  },
  {
   "cell_type": "code",
   "execution_count": 25,
   "metadata": {},
   "outputs": [],
   "source": [
    "model=Sequential()\n",
    "model.add(LSTM(50,return_sequences=True,input_shape=(100,1)))\n",
    "model.add(LSTM(50,return_sequences=True))\n",
    "model.add(LSTM(50))\n",
    "model.add(Dense(1))\n",
    "model.compile(loss='mean_squared_error',optimizer='adam')\n"
   ]
  },
  {
   "cell_type": "code",
   "execution_count": 26,
   "metadata": {},
   "outputs": [
    {
     "name": "stdout",
     "output_type": "stream",
     "text": [
      "Model: \"sequential\"\n",
      "_________________________________________________________________\n",
      " Layer (type)                Output Shape              Param #   \n",
      "=================================================================\n",
      " lstm (LSTM)                 (None, 100, 50)           10400     \n",
      "                                                                 \n",
      " lstm_1 (LSTM)               (None, 100, 50)           20200     \n",
      "                                                                 \n",
      " lstm_2 (LSTM)               (None, 50)                20200     \n",
      "                                                                 \n",
      " dense (Dense)               (None, 1)                 51        \n",
      "                                                                 \n",
      "=================================================================\n",
      "Total params: 50,851\n",
      "Trainable params: 50,851\n",
      "Non-trainable params: 0\n",
      "_________________________________________________________________\n"
     ]
    }
   ],
   "source": [
    "model.summary()"
   ]
  },
  {
   "cell_type": "code",
   "execution_count": 27,
   "metadata": {},
   "outputs": [
    {
     "name": "stdout",
     "output_type": "stream",
     "text": [
      "Model: \"sequential\"\n",
      "_________________________________________________________________\n",
      " Layer (type)                Output Shape              Param #   \n",
      "=================================================================\n",
      " lstm (LSTM)                 (None, 100, 50)           10400     \n",
      "                                                                 \n",
      " lstm_1 (LSTM)               (None, 100, 50)           20200     \n",
      "                                                                 \n",
      " lstm_2 (LSTM)               (None, 50)                20200     \n",
      "                                                                 \n",
      " dense (Dense)               (None, 1)                 51        \n",
      "                                                                 \n",
      "=================================================================\n",
      "Total params: 50,851\n",
      "Trainable params: 50,851\n",
      "Non-trainable params: 0\n",
      "_________________________________________________________________\n"
     ]
    }
   ],
   "source": [
    "model.summary()"
   ]
  },
  {
   "cell_type": "code",
   "execution_count": null,
   "metadata": {},
   "outputs": [],
   "source": []
  },
  {
   "cell_type": "code",
   "execution_count": 28,
   "metadata": {},
   "outputs": [
    {
     "name": "stdout",
     "output_type": "stream",
     "text": [
      "Epoch 1/100\n",
      "53/53 [==============================] - 49s 548ms/step - loss: 0.0296 - val_loss: 1.8726e-04\n",
      "Epoch 2/100\n",
      "53/53 [==============================] - 23s 439ms/step - loss: 0.0026 - val_loss: 1.3318e-04\n",
      "Epoch 3/100\n",
      "53/53 [==============================] - 24s 448ms/step - loss: 0.0024 - val_loss: 1.0348e-04\n",
      "Epoch 4/100\n",
      "53/53 [==============================] - 23s 443ms/step - loss: 0.0020 - val_loss: 1.0493e-04\n",
      "Epoch 5/100\n",
      "53/53 [==============================] - 22s 418ms/step - loss: 0.0019 - val_loss: 8.5669e-05\n",
      "Epoch 6/100\n",
      "53/53 [==============================] - 23s 443ms/step - loss: 0.0017 - val_loss: 7.2495e-05\n",
      "Epoch 7/100\n",
      "53/53 [==============================] - 24s 448ms/step - loss: 0.0015 - val_loss: 8.3368e-05\n",
      "Epoch 8/100\n",
      "53/53 [==============================] - 23s 441ms/step - loss: 0.0014 - val_loss: 6.5811e-05\n",
      "Epoch 9/100\n",
      "53/53 [==============================] - 24s 449ms/step - loss: 0.0014 - val_loss: 6.3746e-05\n",
      "Epoch 10/100\n",
      "53/53 [==============================] - 23s 444ms/step - loss: 0.0014 - val_loss: 6.8014e-05\n",
      "Epoch 11/100\n",
      "53/53 [==============================] - 24s 447ms/step - loss: 0.0013 - val_loss: 1.0514e-04\n",
      "Epoch 12/100\n",
      "53/53 [==============================] - 24s 449ms/step - loss: 0.0012 - val_loss: 6.0511e-05\n",
      "Epoch 13/100\n",
      "53/53 [==============================] - 24s 448ms/step - loss: 0.0011 - val_loss: 5.7736e-05\n",
      "Epoch 14/100\n",
      "53/53 [==============================] - 24s 461ms/step - loss: 0.0010 - val_loss: 6.5614e-05\n",
      "Epoch 15/100\n",
      "53/53 [==============================] - 24s 450ms/step - loss: 9.9280e-04 - val_loss: 5.8142e-05\n",
      "Epoch 16/100\n",
      "53/53 [==============================] - 24s 456ms/step - loss: 9.7763e-04 - val_loss: 5.1883e-05\n",
      "Epoch 17/100\n",
      "53/53 [==============================] - 23s 427ms/step - loss: 0.0010 - val_loss: 6.1347e-05\n",
      "Epoch 18/100\n",
      "53/53 [==============================] - 24s 451ms/step - loss: 8.6969e-04 - val_loss: 5.0560e-05\n",
      "Epoch 19/100\n",
      "53/53 [==============================] - 24s 452ms/step - loss: 8.1563e-04 - val_loss: 5.4934e-05\n",
      "Epoch 20/100\n",
      "53/53 [==============================] - 24s 454ms/step - loss: 7.6996e-04 - val_loss: 4.8702e-05\n",
      "Epoch 21/100\n",
      "53/53 [==============================] - 24s 454ms/step - loss: 6.7801e-04 - val_loss: 5.3638e-05\n",
      "Epoch 22/100\n",
      "53/53 [==============================] - 24s 455ms/step - loss: 6.3718e-04 - val_loss: 4.4168e-05\n",
      "Epoch 23/100\n",
      "53/53 [==============================] - 24s 456ms/step - loss: 6.1546e-04 - val_loss: 5.2977e-05\n",
      "Epoch 24/100\n",
      "53/53 [==============================] - 24s 459ms/step - loss: 8.4098e-04 - val_loss: 4.6204e-05\n",
      "Epoch 25/100\n",
      "53/53 [==============================] - 24s 453ms/step - loss: 6.1991e-04 - val_loss: 4.0883e-05\n",
      "Epoch 26/100\n",
      "53/53 [==============================] - 24s 459ms/step - loss: 5.2142e-04 - val_loss: 9.1599e-05\n",
      "Epoch 27/100\n",
      "53/53 [==============================] - 24s 453ms/step - loss: 5.1188e-04 - val_loss: 4.1609e-05\n",
      "Epoch 28/100\n",
      "53/53 [==============================] - 24s 460ms/step - loss: 5.0727e-04 - val_loss: 4.0912e-05\n",
      "Epoch 29/100\n",
      "53/53 [==============================] - 24s 451ms/step - loss: 5.5011e-04 - val_loss: 1.6276e-04\n",
      "Epoch 30/100\n",
      "53/53 [==============================] - 24s 449ms/step - loss: 5.9677e-04 - val_loss: 6.7835e-05\n",
      "Epoch 31/100\n",
      "53/53 [==============================] - 23s 445ms/step - loss: 4.3776e-04 - val_loss: 4.7053e-05\n",
      "Epoch 32/100\n",
      "53/53 [==============================] - 24s 453ms/step - loss: 5.6174e-04 - val_loss: 5.6621e-05\n",
      "Epoch 33/100\n",
      "53/53 [==============================] - 25s 467ms/step - loss: 4.2528e-04 - val_loss: 4.8205e-05\n",
      "Epoch 34/100\n",
      "53/53 [==============================] - 24s 459ms/step - loss: 4.6930e-04 - val_loss: 3.7719e-05\n",
      "Epoch 35/100\n",
      "53/53 [==============================] - 24s 462ms/step - loss: 4.9828e-04 - val_loss: 3.9085e-05\n",
      "Epoch 36/100\n",
      "53/53 [==============================] - 24s 461ms/step - loss: 3.7474e-04 - val_loss: 3.3278e-05\n",
      "Epoch 37/100\n",
      "53/53 [==============================] - 25s 470ms/step - loss: 3.7391e-04 - val_loss: 4.2572e-05\n",
      "Epoch 38/100\n",
      "53/53 [==============================] - 24s 461ms/step - loss: 4.6449e-04 - val_loss: 3.1016e-05\n",
      "Epoch 39/100\n",
      "53/53 [==============================] - 24s 459ms/step - loss: 3.7164e-04 - val_loss: 3.2571e-05\n",
      "Epoch 40/100\n",
      "53/53 [==============================] - 25s 469ms/step - loss: 3.6579e-04 - val_loss: 2.9423e-05\n",
      "Epoch 41/100\n",
      "53/53 [==============================] - 24s 459ms/step - loss: 3.9483e-04 - val_loss: 5.1431e-05\n",
      "Epoch 42/100\n",
      "53/53 [==============================] - 24s 449ms/step - loss: 3.9837e-04 - val_loss: 3.3507e-05\n",
      "Epoch 43/100\n",
      "53/53 [==============================] - 24s 455ms/step - loss: 3.6227e-04 - val_loss: 2.8177e-05\n",
      "Epoch 44/100\n",
      "53/53 [==============================] - 24s 453ms/step - loss: 3.8523e-04 - val_loss: 4.1305e-05\n",
      "Epoch 45/100\n",
      "53/53 [==============================] - 24s 457ms/step - loss: 3.6442e-04 - val_loss: 3.3068e-05\n",
      "Epoch 46/100\n",
      "53/53 [==============================] - 25s 464ms/step - loss: 3.5403e-04 - val_loss: 2.9875e-05\n",
      "Epoch 47/100\n",
      "53/53 [==============================] - 23s 435ms/step - loss: 3.3786e-04 - val_loss: 2.6887e-05\n",
      "Epoch 48/100\n",
      "53/53 [==============================] - 24s 445ms/step - loss: 3.4737e-04 - val_loss: 2.7427e-05\n",
      "Epoch 49/100\n",
      "53/53 [==============================] - 23s 443ms/step - loss: 3.6394e-04 - val_loss: 2.9092e-05\n",
      "Epoch 50/100\n",
      "53/53 [==============================] - 24s 447ms/step - loss: 3.6182e-04 - val_loss: 3.5868e-05\n",
      "Epoch 51/100\n",
      "53/53 [==============================] - 24s 451ms/step - loss: 3.5234e-04 - val_loss: 2.7187e-05\n",
      "Epoch 52/100\n",
      "53/53 [==============================] - 24s 449ms/step - loss: 3.4253e-04 - val_loss: 2.6602e-05\n",
      "Epoch 53/100\n",
      "53/53 [==============================] - 24s 448ms/step - loss: 3.8409e-04 - val_loss: 3.4781e-05\n",
      "Epoch 54/100\n",
      "53/53 [==============================] - 24s 456ms/step - loss: 3.6697e-04 - val_loss: 2.8481e-05\n",
      "Epoch 55/100\n",
      "53/53 [==============================] - 24s 446ms/step - loss: 3.3265e-04 - val_loss: 2.6259e-05\n",
      "Epoch 56/100\n",
      "53/53 [==============================] - 24s 450ms/step - loss: 3.3635e-04 - val_loss: 2.6116e-05\n",
      "Epoch 57/100\n",
      "53/53 [==============================] - 24s 453ms/step - loss: 3.2919e-04 - val_loss: 4.5692e-05\n",
      "Epoch 58/100\n",
      "53/53 [==============================] - 25s 465ms/step - loss: 4.2351e-04 - val_loss: 2.9163e-05\n",
      "Epoch 59/100\n",
      "53/53 [==============================] - 24s 464ms/step - loss: 4.0246e-04 - val_loss: 2.5516e-05\n",
      "Epoch 60/100\n",
      "53/53 [==============================] - 24s 463ms/step - loss: 3.2974e-04 - val_loss: 2.8008e-05\n",
      "Epoch 61/100\n",
      "53/53 [==============================] - 18s 338ms/step - loss: 3.4861e-04 - val_loss: 2.6851e-05\n",
      "Epoch 62/100\n",
      "53/53 [==============================] - 24s 459ms/step - loss: 3.6722e-04 - val_loss: 2.6835e-05\n",
      "Epoch 63/100\n",
      "53/53 [==============================] - 24s 460ms/step - loss: 3.4217e-04 - val_loss: 3.2723e-05\n",
      "Epoch 64/100\n",
      "53/53 [==============================] - 24s 452ms/step - loss: 3.5236e-04 - val_loss: 3.1118e-05\n",
      "Epoch 65/100\n",
      "53/53 [==============================] - 24s 455ms/step - loss: 3.7189e-04 - val_loss: 5.7193e-05\n",
      "Epoch 66/100\n",
      "53/53 [==============================] - 24s 450ms/step - loss: 3.2719e-04 - val_loss: 2.5482e-05\n",
      "Epoch 67/100\n",
      "53/53 [==============================] - 24s 446ms/step - loss: 3.3927e-04 - val_loss: 3.3628e-05\n",
      "Epoch 68/100\n",
      "53/53 [==============================] - 22s 416ms/step - loss: 3.5307e-04 - val_loss: 3.1767e-05\n",
      "Epoch 69/100\n",
      "53/53 [==============================] - 24s 454ms/step - loss: 3.3110e-04 - val_loss: 2.3663e-05\n",
      "Epoch 70/100\n",
      "53/53 [==============================] - 24s 459ms/step - loss: 3.4989e-04 - val_loss: 2.7051e-05\n",
      "Epoch 71/100\n",
      "53/53 [==============================] - 24s 448ms/step - loss: 4.1387e-04 - val_loss: 3.6337e-05\n",
      "Epoch 72/100\n",
      "53/53 [==============================] - 24s 451ms/step - loss: 3.6216e-04 - val_loss: 2.4748e-05\n",
      "Epoch 73/100\n",
      "53/53 [==============================] - 24s 453ms/step - loss: 3.1742e-04 - val_loss: 3.2124e-05\n",
      "Epoch 74/100\n",
      "53/53 [==============================] - 24s 460ms/step - loss: 3.3192e-04 - val_loss: 2.3259e-05\n",
      "Epoch 75/100\n"
     ]
    },
    {
     "name": "stdout",
     "output_type": "stream",
     "text": [
      "53/53 [==============================] - 24s 458ms/step - loss: 3.3914e-04 - val_loss: 2.3759e-05\n",
      "Epoch 76/100\n",
      "53/53 [==============================] - 24s 457ms/step - loss: 3.4659e-04 - val_loss: 2.3635e-05\n",
      "Epoch 77/100\n",
      "53/53 [==============================] - 24s 461ms/step - loss: 3.3438e-04 - val_loss: 2.6807e-05\n",
      "Epoch 78/100\n",
      "53/53 [==============================] - 24s 461ms/step - loss: 3.4873e-04 - val_loss: 4.3118e-05\n",
      "Epoch 79/100\n",
      "53/53 [==============================] - 25s 471ms/step - loss: 3.9190e-04 - val_loss: 2.3839e-05\n",
      "Epoch 80/100\n",
      "53/53 [==============================] - 24s 452ms/step - loss: 3.1892e-04 - val_loss: 2.7796e-05\n",
      "Epoch 81/100\n",
      "53/53 [==============================] - 24s 460ms/step - loss: 3.3283e-04 - val_loss: 2.4424e-05\n",
      "Epoch 82/100\n",
      "53/53 [==============================] - 25s 464ms/step - loss: 3.3964e-04 - val_loss: 2.5117e-05\n",
      "Epoch 83/100\n",
      "53/53 [==============================] - 24s 455ms/step - loss: 3.5805e-04 - val_loss: 3.7642e-05\n",
      "Epoch 84/100\n",
      "53/53 [==============================] - 24s 458ms/step - loss: 3.1678e-04 - val_loss: 2.5130e-05\n",
      "Epoch 85/100\n",
      "53/53 [==============================] - 24s 458ms/step - loss: 3.1719e-04 - val_loss: 2.9786e-05\n",
      "Epoch 86/100\n",
      "53/53 [==============================] - 24s 463ms/step - loss: 3.2900e-04 - val_loss: 3.6638e-05\n",
      "Epoch 87/100\n",
      "53/53 [==============================] - 24s 461ms/step - loss: 3.3739e-04 - val_loss: 2.8731e-05\n",
      "Epoch 88/100\n",
      "53/53 [==============================] - 24s 459ms/step - loss: 3.2884e-04 - val_loss: 2.3236e-05\n",
      "Epoch 89/100\n",
      "53/53 [==============================] - 24s 459ms/step - loss: 3.5375e-04 - val_loss: 2.2659e-05\n",
      "Epoch 90/100\n",
      "53/53 [==============================] - 23s 428ms/step - loss: 3.3728e-04 - val_loss: 2.4959e-05\n",
      "Epoch 91/100\n",
      "53/53 [==============================] - 25s 472ms/step - loss: 3.6689e-04 - val_loss: 9.5006e-05\n",
      "Epoch 92/100\n",
      "53/53 [==============================] - 24s 455ms/step - loss: 3.2671e-04 - val_loss: 6.9268e-05\n",
      "Epoch 93/100\n",
      "53/53 [==============================] - 16s 299ms/step - loss: 3.3311e-04 - val_loss: 2.1490e-05\n",
      "Epoch 94/100\n",
      "53/53 [==============================] - 10s 181ms/step - loss: 3.3292e-04 - val_loss: 2.1710e-05\n",
      "Epoch 95/100\n",
      "53/53 [==============================] - 10s 182ms/step - loss: 3.1960e-04 - val_loss: 2.1673e-05\n",
      "Epoch 96/100\n",
      "53/53 [==============================] - 10s 183ms/step - loss: 3.4729e-04 - val_loss: 4.4100e-05\n",
      "Epoch 97/100\n",
      "53/53 [==============================] - 10s 183ms/step - loss: 3.7399e-04 - val_loss: 3.7754e-05\n",
      "Epoch 98/100\n",
      "53/53 [==============================] - 10s 181ms/step - loss: 3.1811e-04 - val_loss: 3.9298e-05\n",
      "Epoch 99/100\n",
      "53/53 [==============================] - 10s 187ms/step - loss: 3.6033e-04 - val_loss: 3.0079e-05\n",
      "Epoch 100/100\n",
      "53/53 [==============================] - 10s 185ms/step - loss: 3.5703e-04 - val_loss: 2.5208e-05\n"
     ]
    },
    {
     "data": {
      "text/plain": [
       "<keras.callbacks.History at 0x27fa3d239d0>"
      ]
     },
     "execution_count": 28,
     "metadata": {},
     "output_type": "execute_result"
    }
   ],
   "source": [
    "model.fit(X_train,y_train,validation_data=(X_test,ytest),epochs=100,batch_size=64,verbose=1)"
   ]
  },
  {
   "cell_type": "code",
   "execution_count": 29,
   "metadata": {},
   "outputs": [],
   "source": [
    "import tensorflow as tf"
   ]
  },
  {
   "cell_type": "code",
   "execution_count": 30,
   "metadata": {},
   "outputs": [
    {
     "data": {
      "text/plain": [
       "'2.11.0'"
      ]
     },
     "execution_count": 30,
     "metadata": {},
     "output_type": "execute_result"
    }
   ],
   "source": [
    "tf.__version__"
   ]
  },
  {
   "cell_type": "code",
   "execution_count": 31,
   "metadata": {},
   "outputs": [
    {
     "name": "stdout",
     "output_type": "stream",
     "text": [
      "105/105 [==============================] - 5s 35ms/step\n",
      "55/55 [==============================] - 2s 36ms/step\n"
     ]
    }
   ],
   "source": [
    "### Lets Do the prediction and check performance metrics\n",
    "train_predict=model.predict(X_train)\n",
    "test_predict=model.predict(X_test)"
   ]
  },
  {
   "cell_type": "code",
   "execution_count": 32,
   "metadata": {},
   "outputs": [],
   "source": [
    "##Transformback to original form\n",
    "train_predict=scaler.inverse_transform(train_predict)\n",
    "test_predict=scaler.inverse_transform(test_predict)"
   ]
  },
  {
   "cell_type": "code",
   "execution_count": 33,
   "metadata": {},
   "outputs": [
    {
     "data": {
      "text/plain": [
       "757.7120464803228"
      ]
     },
     "execution_count": 33,
     "metadata": {},
     "output_type": "execute_result"
    }
   ],
   "source": [
    "### Calculate RMSE performance metrics\n",
    "import math\n",
    "from sklearn.metrics import mean_squared_error\n",
    "math.sqrt(mean_squared_error(y_train,train_predict))"
   ]
  },
  {
   "cell_type": "code",
   "execution_count": 34,
   "metadata": {},
   "outputs": [
    {
     "data": {
      "text/plain": [
       "223.6487285399601"
      ]
     },
     "execution_count": 34,
     "metadata": {},
     "output_type": "execute_result"
    }
   ],
   "source": [
    "### Test Data RMSE\n",
    "math.sqrt(mean_squared_error(ytest,test_predict))"
   ]
  },
  {
   "cell_type": "code",
   "execution_count": 35,
   "metadata": {},
   "outputs": [
    {
     "data": {
      "image/png": "[encoded data removed]",
      "text/plain": [
       "<Figure size 432x288 with 1 Axes>"
      ]
     },
     "metadata": {
      "needs_background": "light"
     },
     "output_type": "display_data"
    }
   ],
   "source": [
    "### Plotting \n",
    "# shift train predictions for plotting\n",
    "look_back=100\n",
    "trainPredictPlot = numpy.empty_like(df1)\n",
    "trainPredictPlot[:, :] = np.nan\n",
    "trainPredictPlot[look_back:len(train_predict)+look_back, :] = train_predict\n",
    "# shift test predictions for plotting\n",
    "testPredictPlot = numpy.empty_like(df1)\n",
    "testPredictPlot[:, :] = numpy.nan\n",
    "testPredictPlot[len(train_predict)+(look_back*2)+1:len(df1)-1, :] = test_predict\n",
    "# plot baseline and predictions\n",
    "plt.plot(scaler.inverse_transform(df1))\n",
    "plt.plot(trainPredictPlot)\n",
    "plt.plot(testPredictPlot)\n",
    "plt.show()"
   ]
  },
  {
   "cell_type": "code",
   "execution_count": 36,
   "metadata": {},
   "outputs": [
    {
     "data": {
      "text/plain": [
       "1858"
      ]
     },
     "execution_count": 36,
     "metadata": {},
     "output_type": "execute_result"
    }
   ],
   "source": [
    "len(test_data)"
   ]
  },
  {
   "cell_type": "code",
   "execution_count": 41,
   "metadata": {},
   "outputs": [
    {
     "data": {
      "text/plain": [
       "(1, 100)"
      ]
     },
     "execution_count": 41,
     "metadata": {},
     "output_type": "execute_result"
    }
   ],
   "source": [
    "x_input=test_data[1758:].reshape(1,-1)\n",
    "x_input.shape\n"
   ]
  },
  {
   "cell_type": "code",
   "execution_count": null,
   "metadata": {},
   "outputs": [],
   "source": []
  },
  {
   "cell_type": "code",
   "execution_count": null,
   "metadata": {},
   "outputs": [],
   "source": []
  },
  {
   "cell_type": "code",
   "execution_count": 42,
   "metadata": {},
   "outputs": [],
   "source": [
    "temp_input=list(x_input)\n",
    "temp_input=temp_input[0].tolist()"
   ]
  },
  {
   "cell_type": "code",
   "execution_count": 43,
   "metadata": {},
   "outputs": [
    {
     "data": {
      "text/plain": [
       "[0.0201516640921219,\n",
       " 0.020959134952956038,\n",
       " 0.022152787529841317,\n",
       " 0.021591068670130595,\n",
       " 0.02190703552871788,\n",
       " 0.022223002387305166,\n",
       " 0.02583906754669288,\n",
       " 0.029139165847493334,\n",
       " 0.028401909844123024,\n",
       " 0.03012217385198708,\n",
       " 0.029139165847493334,\n",
       " 0.027383794410897347,\n",
       " 0.020959134952956038,\n",
       " 0.021450638955202925,\n",
       " 0.021626176098862512,\n",
       " 0.023276225249262747,\n",
       " 0.023732621822777702,\n",
       " 0.023276225249262747,\n",
       " 0.023346440106726582,\n",
       " 0.023206010391798898,\n",
       " 0.023311332677994664,\n",
       " 0.025944389832888645,\n",
       " 0.02454009268361186,\n",
       " 0.025944389832888645,\n",
       " 0.02661143097879512,\n",
       " 0.028542339559050695,\n",
       " 0.029876421850863644,\n",
       " 0.0305083555680382,\n",
       " 0.0317722230023873,\n",
       " 0.03163179328745963,\n",
       " 0.0290689509900295,\n",
       " 0.025733745260497126,\n",
       " 0.02675186069372279,\n",
       " 0.02727847212470158,\n",
       " 0.02436455553995226,\n",
       " 0.022995365819407393,\n",
       " 0.022012357814913633,\n",
       " 0.020853812666760285,\n",
       " 0.02152085381266676,\n",
       " 0.019870804662266532,\n",
       " 0.02166128352759443,\n",
       " 0.023065580676871228,\n",
       " 0.023416654964190417,\n",
       " 0.02643589383513552,\n",
       " 0.02643589383513552,\n",
       " 0.027840190984412302,\n",
       " 0.02878809156017413,\n",
       " 0.02808594298553574,\n",
       " 0.027699761269484632,\n",
       " 0.025979497261620563,\n",
       " 0.026997612694846226,\n",
       " 0.03071900014042972,\n",
       " 0.029665777278472125,\n",
       " 0.03559893273416655,\n",
       " 0.03166690071619155,\n",
       " 0.032509479005757624,\n",
       " 0.03665215559612414,\n",
       " 0.03763516360061789,\n",
       " 0.041461873332397134,\n",
       " 0.035809577306558066,\n",
       " 0.04005757618312035,\n",
       " 0.03756494874315405,\n",
       " 0.037916023030473256,\n",
       " 0.037003229883443345,\n",
       " 0.03858306417637973,\n",
       " 0.040900154472686426,\n",
       " 0.03984693161072883,\n",
       " 0.03819688246032861,\n",
       " 0.038653279033843566,\n",
       " 0.03816177503159668,\n",
       " 0.03868838646257548,\n",
       " 0.03465103215840472,\n",
       " 0.03524785844684736,\n",
       " 0.03545850301923888,\n",
       " 0.03482656930206432,\n",
       " 0.033106305294200264,\n",
       " 0.03145625614380003,\n",
       " 0.029490240134812523,\n",
       " 0.02977109956466789,\n",
       " 0.030543462996770118,\n",
       " 0.02959556242100829,\n",
       " 0.031140289285212744,\n",
       " 0.0305083555680382,\n",
       " 0.030859429855357404,\n",
       " 0.03135093385760428,\n",
       " 0.030613677854233953,\n",
       " 0.030754107569161637,\n",
       " 0.026716753264990872,\n",
       " 0.02952534756354444,\n",
       " 0.03166690071619155,\n",
       " 0.033211627580396016,\n",
       " 0.030227496138182833,\n",
       " 0.030087066423255163,\n",
       " 0.03026260356691475,\n",
       " 0.02977109956466789,\n",
       " 0.030051958994523245,\n",
       " 0.0303328184243786,\n",
       " 0.030824322426625486,\n",
       " 0.03092964471282124,\n",
       " 0.033808453868838656]"
      ]
     },
     "execution_count": 43,
     "metadata": {},
     "output_type": "execute_result"
    }
   ],
   "source": [
    "temp_input"
   ]
  },
  {
   "cell_type": "code",
   "execution_count": 44,
   "metadata": {},
   "outputs": [
    {
     "name": "stdout",
     "output_type": "stream",
     "text": [
      "[0.03466703]\n",
      "101\n",
      "1 day input [0.02095913 0.02215279 0.02159107 0.02190704 0.022223   0.02583907\n",
      " 0.02913917 0.02840191 0.03012217 0.02913917 0.02738379 0.02095913\n",
      " 0.02145064 0.02162618 0.02327623 0.02373262 0.02327623 0.02334644\n",
      " 0.02320601 0.02331133 0.02594439 0.02454009 0.02594439 0.02661143\n",
      " 0.02854234 0.02987642 0.03050836 0.03177222 0.03163179 0.02906895\n",
      " 0.02573375 0.02675186 0.02727847 0.02436456 0.02299537 0.02201236\n",
      " 0.02085381 0.02152085 0.0198708  0.02166128 0.02306558 0.02341665\n",
      " 0.02643589 0.02643589 0.02784019 0.02878809 0.02808594 0.02769976\n",
      " 0.0259795  0.02699761 0.030719   0.02966578 0.03559893 0.0316669\n",
      " 0.03250948 0.03665216 0.03763516 0.04146187 0.03580958 0.04005758\n",
      " 0.03756495 0.03791602 0.03700323 0.03858306 0.04090015 0.03984693\n",
      " 0.03819688 0.03865328 0.03816178 0.03868839 0.03465103 0.03524786\n",
      " 0.0354585  0.03482657 0.03310631 0.03145626 0.02949024 0.0297711\n",
      " 0.03054346 0.02959556 0.03114029 0.03050836 0.03085943 0.03135093\n",
      " 0.03061368 0.03075411 0.02671675 0.02952535 0.0316669  0.03321163\n",
      " 0.0302275  0.03008707 0.0302626  0.0297711  0.03005196 0.03033282\n",
      " 0.03082432 0.03092964 0.03380845 0.03466703]\n",
      "1 day output [[0.03566422]]\n",
      "2 day input [0.02215279 0.02159107 0.02190704 0.022223   0.02583907 0.02913917\n",
      " 0.02840191 0.03012217 0.02913917 0.02738379 0.02095913 0.02145064\n",
      " 0.02162618 0.02327623 0.02373262 0.02327623 0.02334644 0.02320601\n",
      " 0.02331133 0.02594439 0.02454009 0.02594439 0.02661143 0.02854234\n",
      " 0.02987642 0.03050836 0.03177222 0.03163179 0.02906895 0.02573375\n",
      " 0.02675186 0.02727847 0.02436456 0.02299537 0.02201236 0.02085381\n",
      " 0.02152085 0.0198708  0.02166128 0.02306558 0.02341665 0.02643589\n",
      " 0.02643589 0.02784019 0.02878809 0.02808594 0.02769976 0.0259795\n",
      " 0.02699761 0.030719   0.02966578 0.03559893 0.0316669  0.03250948\n",
      " 0.03665216 0.03763516 0.04146187 0.03580958 0.04005758 0.03756495\n",
      " 0.03791602 0.03700323 0.03858306 0.04090015 0.03984693 0.03819688\n",
      " 0.03865328 0.03816178 0.03868839 0.03465103 0.03524786 0.0354585\n",
      " 0.03482657 0.03310631 0.03145626 0.02949024 0.0297711  0.03054346\n",
      " 0.02959556 0.03114029 0.03050836 0.03085943 0.03135093 0.03061368\n",
      " 0.03075411 0.02671675 0.02952535 0.0316669  0.03321163 0.0302275\n",
      " 0.03008707 0.0302626  0.0297711  0.03005196 0.03033282 0.03082432\n",
      " 0.03092964 0.03380845 0.03466703 0.03566422]\n",
      "2 day output [[0.03676155]]\n",
      "3 day input [0.02159107 0.02190704 0.022223   0.02583907 0.02913917 0.02840191\n",
      " 0.03012217 0.02913917 0.02738379 0.02095913 0.02145064 0.02162618\n",
      " 0.02327623 0.02373262 0.02327623 0.02334644 0.02320601 0.02331133\n",
      " 0.02594439 0.02454009 0.02594439 0.02661143 0.02854234 0.02987642\n",
      " 0.03050836 0.03177222 0.03163179 0.02906895 0.02573375 0.02675186\n",
      " 0.02727847 0.02436456 0.02299537 0.02201236 0.02085381 0.02152085\n",
      " 0.0198708  0.02166128 0.02306558 0.02341665 0.02643589 0.02643589\n",
      " 0.02784019 0.02878809 0.02808594 0.02769976 0.0259795  0.02699761\n",
      " 0.030719   0.02966578 0.03559893 0.0316669  0.03250948 0.03665216\n",
      " 0.03763516 0.04146187 0.03580958 0.04005758 0.03756495 0.03791602\n",
      " 0.03700323 0.03858306 0.04090015 0.03984693 0.03819688 0.03865328\n",
      " 0.03816178 0.03868839 0.03465103 0.03524786 0.0354585  0.03482657\n",
      " 0.03310631 0.03145626 0.02949024 0.0297711  0.03054346 0.02959556\n",
      " 0.03114029 0.03050836 0.03085943 0.03135093 0.03061368 0.03075411\n",
      " 0.02671675 0.02952535 0.0316669  0.03321163 0.0302275  0.03008707\n",
      " 0.0302626  0.0297711  0.03005196 0.03033282 0.03082432 0.03092964\n",
      " 0.03380845 0.03466703 0.03566422 0.03676155]\n",
      "3 day output [[0.03787147]]\n",
      "4 day input [0.02190704 0.022223   0.02583907 0.02913917 0.02840191 0.03012217\n",
      " 0.02913917 0.02738379 0.02095913 0.02145064 0.02162618 0.02327623\n",
      " 0.02373262 0.02327623 0.02334644 0.02320601 0.02331133 0.02594439\n",
      " 0.02454009 0.02594439 0.02661143 0.02854234 0.02987642 0.03050836\n",
      " 0.03177222 0.03163179 0.02906895 0.02573375 0.02675186 0.02727847\n",
      " 0.02436456 0.02299537 0.02201236 0.02085381 0.02152085 0.0198708\n",
      " 0.02166128 0.02306558 0.02341665 0.02643589 0.02643589 0.02784019\n",
      " 0.02878809 0.02808594 0.02769976 0.0259795  0.02699761 0.030719\n",
      " 0.02966578 0.03559893 0.0316669  0.03250948 0.03665216 0.03763516\n",
      " 0.04146187 0.03580958 0.04005758 0.03756495 0.03791602 0.03700323\n",
      " 0.03858306 0.04090015 0.03984693 0.03819688 0.03865328 0.03816178\n",
      " 0.03868839 0.03465103 0.03524786 0.0354585  0.03482657 0.03310631\n",
      " 0.03145626 0.02949024 0.0297711  0.03054346 0.02959556 0.03114029\n",
      " 0.03050836 0.03085943 0.03135093 0.03061368 0.03075411 0.02671675\n",
      " 0.02952535 0.0316669  0.03321163 0.0302275  0.03008707 0.0302626\n",
      " 0.0297711  0.03005196 0.03033282 0.03082432 0.03092964 0.03380845\n",
      " 0.03466703 0.03566422 0.03676155 0.03787147]\n",
      "4 day output [[0.03896307]]\n",
      "5 day input [0.022223   0.02583907 0.02913917 0.02840191 0.03012217 0.02913917\n",
      " 0.02738379 0.02095913 0.02145064 0.02162618 0.02327623 0.02373262\n",
      " 0.02327623 0.02334644 0.02320601 0.02331133 0.02594439 0.02454009\n",
      " 0.02594439 0.02661143 0.02854234 0.02987642 0.03050836 0.03177222\n",
      " 0.03163179 0.02906895 0.02573375 0.02675186 0.02727847 0.02436456\n",
      " 0.02299537 0.02201236 0.02085381 0.02152085 0.0198708  0.02166128\n",
      " 0.02306558 0.02341665 0.02643589 0.02643589 0.02784019 0.02878809\n",
      " 0.02808594 0.02769976 0.0259795  0.02699761 0.030719   0.02966578\n",
      " 0.03559893 0.0316669  0.03250948 0.03665216 0.03763516 0.04146187\n",
      " 0.03580958 0.04005758 0.03756495 0.03791602 0.03700323 0.03858306\n",
      " 0.04090015 0.03984693 0.03819688 0.03865328 0.03816178 0.03868839\n",
      " 0.03465103 0.03524786 0.0354585  0.03482657 0.03310631 0.03145626\n",
      " 0.02949024 0.0297711  0.03054346 0.02959556 0.03114029 0.03050836\n",
      " 0.03085943 0.03135093 0.03061368 0.03075411 0.02671675 0.02952535\n",
      " 0.0316669  0.03321163 0.0302275  0.03008707 0.0302626  0.0297711\n",
      " 0.03005196 0.03033282 0.03082432 0.03092964 0.03380845 0.03466703\n",
      " 0.03566422 0.03676155 0.03787147 0.03896307]\n",
      "5 day output [[0.04002723]]\n",
      "6 day input [0.02583907 0.02913917 0.02840191 0.03012217 0.02913917 0.02738379\n",
      " 0.02095913 0.02145064 0.02162618 0.02327623 0.02373262 0.02327623\n",
      " 0.02334644 0.02320601 0.02331133 0.02594439 0.02454009 0.02594439\n",
      " 0.02661143 0.02854234 0.02987642 0.03050836 0.03177222 0.03163179\n",
      " 0.02906895 0.02573375 0.02675186 0.02727847 0.02436456 0.02299537\n",
      " 0.02201236 0.02085381 0.02152085 0.0198708  0.02166128 0.02306558\n",
      " 0.02341665 0.02643589 0.02643589 0.02784019 0.02878809 0.02808594\n",
      " 0.02769976 0.0259795  0.02699761 0.030719   0.02966578 0.03559893\n",
      " 0.0316669  0.03250948 0.03665216 0.03763516 0.04146187 0.03580958\n",
      " 0.04005758 0.03756495 0.03791602 0.03700323 0.03858306 0.04090015\n",
      " 0.03984693 0.03819688 0.03865328 0.03816178 0.03868839 0.03465103\n",
      " 0.03524786 0.0354585  0.03482657 0.03310631 0.03145626 0.02949024\n",
      " 0.0297711  0.03054346 0.02959556 0.03114029 0.03050836 0.03085943\n",
      " 0.03135093 0.03061368 0.03075411 0.02671675 0.02952535 0.0316669\n",
      " 0.03321163 0.0302275  0.03008707 0.0302626  0.0297711  0.03005196\n",
      " 0.03033282 0.03082432 0.03092964 0.03380845 0.03466703 0.03566422\n",
      " 0.03676155 0.03787147 0.03896307 0.04002723]\n",
      "6 day output [[0.04106176]]\n",
      "7 day input [0.02913917 0.02840191 0.03012217 0.02913917 0.02738379 0.02095913\n",
      " 0.02145064 0.02162618 0.02327623 0.02373262 0.02327623 0.02334644\n",
      " 0.02320601 0.02331133 0.02594439 0.02454009 0.02594439 0.02661143\n",
      " 0.02854234 0.02987642 0.03050836 0.03177222 0.03163179 0.02906895\n",
      " 0.02573375 0.02675186 0.02727847 0.02436456 0.02299537 0.02201236\n",
      " 0.02085381 0.02152085 0.0198708  0.02166128 0.02306558 0.02341665\n",
      " 0.02643589 0.02643589 0.02784019 0.02878809 0.02808594 0.02769976\n",
      " 0.0259795  0.02699761 0.030719   0.02966578 0.03559893 0.0316669\n",
      " 0.03250948 0.03665216 0.03763516 0.04146187 0.03580958 0.04005758\n",
      " 0.03756495 0.03791602 0.03700323 0.03858306 0.04090015 0.03984693\n",
      " 0.03819688 0.03865328 0.03816178 0.03868839 0.03465103 0.03524786\n",
      " 0.0354585  0.03482657 0.03310631 0.03145626 0.02949024 0.0297711\n",
      " 0.03054346 0.02959556 0.03114029 0.03050836 0.03085943 0.03135093\n",
      " 0.03061368 0.03075411 0.02671675 0.02952535 0.0316669  0.03321163\n",
      " 0.0302275  0.03008707 0.0302626  0.0297711  0.03005196 0.03033282\n",
      " 0.03082432 0.03092964 0.03380845 0.03466703 0.03566422 0.03676155\n",
      " 0.03787147 0.03896307 0.04002723 0.04106176]\n",
      "7 day output [[0.0420666]]\n",
      "8 day input [0.02840191 0.03012217 0.02913917 0.02738379 0.02095913 0.02145064\n",
      " 0.02162618 0.02327623 0.02373262 0.02327623 0.02334644 0.02320601\n",
      " 0.02331133 0.02594439 0.02454009 0.02594439 0.02661143 0.02854234\n",
      " 0.02987642 0.03050836 0.03177222 0.03163179 0.02906895 0.02573375\n",
      " 0.02675186 0.02727847 0.02436456 0.02299537 0.02201236 0.02085381\n",
      " 0.02152085 0.0198708  0.02166128 0.02306558 0.02341665 0.02643589\n",
      " 0.02643589 0.02784019 0.02878809 0.02808594 0.02769976 0.0259795\n",
      " 0.02699761 0.030719   0.02966578 0.03559893 0.0316669  0.03250948\n",
      " 0.03665216 0.03763516 0.04146187 0.03580958 0.04005758 0.03756495\n",
      " 0.03791602 0.03700323 0.03858306 0.04090015 0.03984693 0.03819688\n",
      " 0.03865328 0.03816178 0.03868839 0.03465103 0.03524786 0.0354585\n",
      " 0.03482657 0.03310631 0.03145626 0.02949024 0.0297711  0.03054346\n",
      " 0.02959556 0.03114029 0.03050836 0.03085943 0.03135093 0.03061368\n",
      " 0.03075411 0.02671675 0.02952535 0.0316669  0.03321163 0.0302275\n",
      " 0.03008707 0.0302626  0.0297711  0.03005196 0.03033282 0.03082432\n",
      " 0.03092964 0.03380845 0.03466703 0.03566422 0.03676155 0.03787147\n",
      " 0.03896307 0.04002723 0.04106176 0.0420666 ]\n",
      "8 day output [[0.04304251]]\n",
      "9 day input [0.03012217 0.02913917 0.02738379 0.02095913 0.02145064 0.02162618\n",
      " 0.02327623 0.02373262 0.02327623 0.02334644 0.02320601 0.02331133\n",
      " 0.02594439 0.02454009 0.02594439 0.02661143 0.02854234 0.02987642\n",
      " 0.03050836 0.03177222 0.03163179 0.02906895 0.02573375 0.02675186\n",
      " 0.02727847 0.02436456 0.02299537 0.02201236 0.02085381 0.02152085\n",
      " 0.0198708  0.02166128 0.02306558 0.02341665 0.02643589 0.02643589\n",
      " 0.02784019 0.02878809 0.02808594 0.02769976 0.0259795  0.02699761\n",
      " 0.030719   0.02966578 0.03559893 0.0316669  0.03250948 0.03665216\n",
      " 0.03763516 0.04146187 0.03580958 0.04005758 0.03756495 0.03791602\n",
      " 0.03700323 0.03858306 0.04090015 0.03984693 0.03819688 0.03865328\n",
      " 0.03816178 0.03868839 0.03465103 0.03524786 0.0354585  0.03482657\n",
      " 0.03310631 0.03145626 0.02949024 0.0297711  0.03054346 0.02959556\n",
      " 0.03114029 0.03050836 0.03085943 0.03135093 0.03061368 0.03075411\n",
      " 0.02671675 0.02952535 0.0316669  0.03321163 0.0302275  0.03008707\n",
      " 0.0302626  0.0297711  0.03005196 0.03033282 0.03082432 0.03092964\n",
      " 0.03380845 0.03466703 0.03566422 0.03676155 0.03787147 0.03896307\n",
      " 0.04002723 0.04106176 0.0420666  0.04304251]\n",
      "9 day output [[0.04399064]]\n",
      "10 day input [0.02913917 0.02738379 0.02095913 0.02145064 0.02162618 0.02327623\n",
      " 0.02373262 0.02327623 0.02334644 0.02320601 0.02331133 0.02594439\n",
      " 0.02454009 0.02594439 0.02661143 0.02854234 0.02987642 0.03050836\n",
      " 0.03177222 0.03163179 0.02906895 0.02573375 0.02675186 0.02727847\n",
      " 0.02436456 0.02299537 0.02201236 0.02085381 0.02152085 0.0198708\n",
      " 0.02166128 0.02306558 0.02341665 0.02643589 0.02643589 0.02784019\n",
      " 0.02878809 0.02808594 0.02769976 0.0259795  0.02699761 0.030719\n",
      " 0.02966578 0.03559893 0.0316669  0.03250948 0.03665216 0.03763516\n",
      " 0.04146187 0.03580958 0.04005758 0.03756495 0.03791602 0.03700323\n",
      " 0.03858306 0.04090015 0.03984693 0.03819688 0.03865328 0.03816178\n",
      " 0.03868839 0.03465103 0.03524786 0.0354585  0.03482657 0.03310631\n",
      " 0.03145626 0.02949024 0.0297711  0.03054346 0.02959556 0.03114029\n",
      " 0.03050836 0.03085943 0.03135093 0.03061368 0.03075411 0.02671675\n",
      " 0.02952535 0.0316669  0.03321163 0.0302275  0.03008707 0.0302626\n",
      " 0.0297711  0.03005196 0.03033282 0.03082432 0.03092964 0.03380845\n",
      " 0.03466703 0.03566422 0.03676155 0.03787147 0.03896307 0.04002723\n",
      " 0.04106176 0.0420666  0.04304251 0.04399064]\n"
     ]
    },
    {
     "name": "stdout",
     "output_type": "stream",
     "text": [
      "10 day output [[0.04491242]]\n",
      "11 day input [0.02738379 0.02095913 0.02145064 0.02162618 0.02327623 0.02373262\n",
      " 0.02327623 0.02334644 0.02320601 0.02331133 0.02594439 0.02454009\n",
      " 0.02594439 0.02661143 0.02854234 0.02987642 0.03050836 0.03177222\n",
      " 0.03163179 0.02906895 0.02573375 0.02675186 0.02727847 0.02436456\n",
      " 0.02299537 0.02201236 0.02085381 0.02152085 0.0198708  0.02166128\n",
      " 0.02306558 0.02341665 0.02643589 0.02643589 0.02784019 0.02878809\n",
      " 0.02808594 0.02769976 0.0259795  0.02699761 0.030719   0.02966578\n",
      " 0.03559893 0.0316669  0.03250948 0.03665216 0.03763516 0.04146187\n",
      " 0.03580958 0.04005758 0.03756495 0.03791602 0.03700323 0.03858306\n",
      " 0.04090015 0.03984693 0.03819688 0.03865328 0.03816178 0.03868839\n",
      " 0.03465103 0.03524786 0.0354585  0.03482657 0.03310631 0.03145626\n",
      " 0.02949024 0.0297711  0.03054346 0.02959556 0.03114029 0.03050836\n",
      " 0.03085943 0.03135093 0.03061368 0.03075411 0.02671675 0.02952535\n",
      " 0.0316669  0.03321163 0.0302275  0.03008707 0.0302626  0.0297711\n",
      " 0.03005196 0.03033282 0.03082432 0.03092964 0.03380845 0.03466703\n",
      " 0.03566422 0.03676155 0.03787147 0.03896307 0.04002723 0.04106176\n",
      " 0.0420666  0.04304251 0.04399064 0.04491242]\n",
      "11 day output [[0.04580938]]\n",
      "12 day input [0.02095913 0.02145064 0.02162618 0.02327623 0.02373262 0.02327623\n",
      " 0.02334644 0.02320601 0.02331133 0.02594439 0.02454009 0.02594439\n",
      " 0.02661143 0.02854234 0.02987642 0.03050836 0.03177222 0.03163179\n",
      " 0.02906895 0.02573375 0.02675186 0.02727847 0.02436456 0.02299537\n",
      " 0.02201236 0.02085381 0.02152085 0.0198708  0.02166128 0.02306558\n",
      " 0.02341665 0.02643589 0.02643589 0.02784019 0.02878809 0.02808594\n",
      " 0.02769976 0.0259795  0.02699761 0.030719   0.02966578 0.03559893\n",
      " 0.0316669  0.03250948 0.03665216 0.03763516 0.04146187 0.03580958\n",
      " 0.04005758 0.03756495 0.03791602 0.03700323 0.03858306 0.04090015\n",
      " 0.03984693 0.03819688 0.03865328 0.03816178 0.03868839 0.03465103\n",
      " 0.03524786 0.0354585  0.03482657 0.03310631 0.03145626 0.02949024\n",
      " 0.0297711  0.03054346 0.02959556 0.03114029 0.03050836 0.03085943\n",
      " 0.03135093 0.03061368 0.03075411 0.02671675 0.02952535 0.0316669\n",
      " 0.03321163 0.0302275  0.03008707 0.0302626  0.0297711  0.03005196\n",
      " 0.03033282 0.03082432 0.03092964 0.03380845 0.03466703 0.03566422\n",
      " 0.03676155 0.03787147 0.03896307 0.04002723 0.04106176 0.0420666\n",
      " 0.04304251 0.04399064 0.04491242 0.04580938]\n",
      "12 day output [[0.04668312]]\n",
      "13 day input [0.02145064 0.02162618 0.02327623 0.02373262 0.02327623 0.02334644\n",
      " 0.02320601 0.02331133 0.02594439 0.02454009 0.02594439 0.02661143\n",
      " 0.02854234 0.02987642 0.03050836 0.03177222 0.03163179 0.02906895\n",
      " 0.02573375 0.02675186 0.02727847 0.02436456 0.02299537 0.02201236\n",
      " 0.02085381 0.02152085 0.0198708  0.02166128 0.02306558 0.02341665\n",
      " 0.02643589 0.02643589 0.02784019 0.02878809 0.02808594 0.02769976\n",
      " 0.0259795  0.02699761 0.030719   0.02966578 0.03559893 0.0316669\n",
      " 0.03250948 0.03665216 0.03763516 0.04146187 0.03580958 0.04005758\n",
      " 0.03756495 0.03791602 0.03700323 0.03858306 0.04090015 0.03984693\n",
      " 0.03819688 0.03865328 0.03816178 0.03868839 0.03465103 0.03524786\n",
      " 0.0354585  0.03482657 0.03310631 0.03145626 0.02949024 0.0297711\n",
      " 0.03054346 0.02959556 0.03114029 0.03050836 0.03085943 0.03135093\n",
      " 0.03061368 0.03075411 0.02671675 0.02952535 0.0316669  0.03321163\n",
      " 0.0302275  0.03008707 0.0302626  0.0297711  0.03005196 0.03033282\n",
      " 0.03082432 0.03092964 0.03380845 0.03466703 0.03566422 0.03676155\n",
      " 0.03787147 0.03896307 0.04002723 0.04106176 0.0420666  0.04304251\n",
      " 0.04399064 0.04491242 0.04580938 0.04668312]\n",
      "13 day output [[0.0475352]]\n",
      "14 day input [0.02162618 0.02327623 0.02373262 0.02327623 0.02334644 0.02320601\n",
      " 0.02331133 0.02594439 0.02454009 0.02594439 0.02661143 0.02854234\n",
      " 0.02987642 0.03050836 0.03177222 0.03163179 0.02906895 0.02573375\n",
      " 0.02675186 0.02727847 0.02436456 0.02299537 0.02201236 0.02085381\n",
      " 0.02152085 0.0198708  0.02166128 0.02306558 0.02341665 0.02643589\n",
      " 0.02643589 0.02784019 0.02878809 0.02808594 0.02769976 0.0259795\n",
      " 0.02699761 0.030719   0.02966578 0.03559893 0.0316669  0.03250948\n",
      " 0.03665216 0.03763516 0.04146187 0.03580958 0.04005758 0.03756495\n",
      " 0.03791602 0.03700323 0.03858306 0.04090015 0.03984693 0.03819688\n",
      " 0.03865328 0.03816178 0.03868839 0.03465103 0.03524786 0.0354585\n",
      " 0.03482657 0.03310631 0.03145626 0.02949024 0.0297711  0.03054346\n",
      " 0.02959556 0.03114029 0.03050836 0.03085943 0.03135093 0.03061368\n",
      " 0.03075411 0.02671675 0.02952535 0.0316669  0.03321163 0.0302275\n",
      " 0.03008707 0.0302626  0.0297711  0.03005196 0.03033282 0.03082432\n",
      " 0.03092964 0.03380845 0.03466703 0.03566422 0.03676155 0.03787147\n",
      " 0.03896307 0.04002723 0.04106176 0.0420666  0.04304251 0.04399064\n",
      " 0.04491242 0.04580938 0.04668312 0.0475352 ]\n",
      "14 day output [[0.04836711]]\n",
      "15 day input [0.02327623 0.02373262 0.02327623 0.02334644 0.02320601 0.02331133\n",
      " 0.02594439 0.02454009 0.02594439 0.02661143 0.02854234 0.02987642\n",
      " 0.03050836 0.03177222 0.03163179 0.02906895 0.02573375 0.02675186\n",
      " 0.02727847 0.02436456 0.02299537 0.02201236 0.02085381 0.02152085\n",
      " 0.0198708  0.02166128 0.02306558 0.02341665 0.02643589 0.02643589\n",
      " 0.02784019 0.02878809 0.02808594 0.02769976 0.0259795  0.02699761\n",
      " 0.030719   0.02966578 0.03559893 0.0316669  0.03250948 0.03665216\n",
      " 0.03763516 0.04146187 0.03580958 0.04005758 0.03756495 0.03791602\n",
      " 0.03700323 0.03858306 0.04090015 0.03984693 0.03819688 0.03865328\n",
      " 0.03816178 0.03868839 0.03465103 0.03524786 0.0354585  0.03482657\n",
      " 0.03310631 0.03145626 0.02949024 0.0297711  0.03054346 0.02959556\n",
      " 0.03114029 0.03050836 0.03085943 0.03135093 0.03061368 0.03075411\n",
      " 0.02671675 0.02952535 0.0316669  0.03321163 0.0302275  0.03008707\n",
      " 0.0302626  0.0297711  0.03005196 0.03033282 0.03082432 0.03092964\n",
      " 0.03380845 0.03466703 0.03566422 0.03676155 0.03787147 0.03896307\n",
      " 0.04002723 0.04106176 0.0420666  0.04304251 0.04399064 0.04491242\n",
      " 0.04580938 0.04668312 0.0475352  0.04836711]\n",
      "15 day output [[0.04918024]]\n",
      "16 day input [0.02373262 0.02327623 0.02334644 0.02320601 0.02331133 0.02594439\n",
      " 0.02454009 0.02594439 0.02661143 0.02854234 0.02987642 0.03050836\n",
      " 0.03177222 0.03163179 0.02906895 0.02573375 0.02675186 0.02727847\n",
      " 0.02436456 0.02299537 0.02201236 0.02085381 0.02152085 0.0198708\n",
      " 0.02166128 0.02306558 0.02341665 0.02643589 0.02643589 0.02784019\n",
      " 0.02878809 0.02808594 0.02769976 0.0259795  0.02699761 0.030719\n",
      " 0.02966578 0.03559893 0.0316669  0.03250948 0.03665216 0.03763516\n",
      " 0.04146187 0.03580958 0.04005758 0.03756495 0.03791602 0.03700323\n",
      " 0.03858306 0.04090015 0.03984693 0.03819688 0.03865328 0.03816178\n",
      " 0.03868839 0.03465103 0.03524786 0.0354585  0.03482657 0.03310631\n",
      " 0.03145626 0.02949024 0.0297711  0.03054346 0.02959556 0.03114029\n",
      " 0.03050836 0.03085943 0.03135093 0.03061368 0.03075411 0.02671675\n",
      " 0.02952535 0.0316669  0.03321163 0.0302275  0.03008707 0.0302626\n",
      " 0.0297711  0.03005196 0.03033282 0.03082432 0.03092964 0.03380845\n",
      " 0.03466703 0.03566422 0.03676155 0.03787147 0.03896307 0.04002723\n",
      " 0.04106176 0.0420666  0.04304251 0.04399064 0.04491242 0.04580938\n",
      " 0.04668312 0.0475352  0.04836711 0.04918024]\n",
      "16 day output [[0.04997592]]\n",
      "17 day input [0.02327623 0.02334644 0.02320601 0.02331133 0.02594439 0.02454009\n",
      " 0.02594439 0.02661143 0.02854234 0.02987642 0.03050836 0.03177222\n",
      " 0.03163179 0.02906895 0.02573375 0.02675186 0.02727847 0.02436456\n",
      " 0.02299537 0.02201236 0.02085381 0.02152085 0.0198708  0.02166128\n",
      " 0.02306558 0.02341665 0.02643589 0.02643589 0.02784019 0.02878809\n",
      " 0.02808594 0.02769976 0.0259795  0.02699761 0.030719   0.02966578\n",
      " 0.03559893 0.0316669  0.03250948 0.03665216 0.03763516 0.04146187\n",
      " 0.03580958 0.04005758 0.03756495 0.03791602 0.03700323 0.03858306\n",
      " 0.04090015 0.03984693 0.03819688 0.03865328 0.03816178 0.03868839\n",
      " 0.03465103 0.03524786 0.0354585  0.03482657 0.03310631 0.03145626\n",
      " 0.02949024 0.0297711  0.03054346 0.02959556 0.03114029 0.03050836\n",
      " 0.03085943 0.03135093 0.03061368 0.03075411 0.02671675 0.02952535\n",
      " 0.0316669  0.03321163 0.0302275  0.03008707 0.0302626  0.0297711\n",
      " 0.03005196 0.03033282 0.03082432 0.03092964 0.03380845 0.03466703\n",
      " 0.03566422 0.03676155 0.03787147 0.03896307 0.04002723 0.04106176\n",
      " 0.0420666  0.04304251 0.04399064 0.04491242 0.04580938 0.04668312\n",
      " 0.0475352  0.04836711 0.04918024 0.04997592]\n",
      "17 day output [[0.05075531]]\n",
      "18 day input [0.02334644 0.02320601 0.02331133 0.02594439 0.02454009 0.02594439\n",
      " 0.02661143 0.02854234 0.02987642 0.03050836 0.03177222 0.03163179\n",
      " 0.02906895 0.02573375 0.02675186 0.02727847 0.02436456 0.02299537\n",
      " 0.02201236 0.02085381 0.02152085 0.0198708  0.02166128 0.02306558\n",
      " 0.02341665 0.02643589 0.02643589 0.02784019 0.02878809 0.02808594\n",
      " 0.02769976 0.0259795  0.02699761 0.030719   0.02966578 0.03559893\n",
      " 0.0316669  0.03250948 0.03665216 0.03763516 0.04146187 0.03580958\n",
      " 0.04005758 0.03756495 0.03791602 0.03700323 0.03858306 0.04090015\n",
      " 0.03984693 0.03819688 0.03865328 0.03816178 0.03868839 0.03465103\n",
      " 0.03524786 0.0354585  0.03482657 0.03310631 0.03145626 0.02949024\n",
      " 0.0297711  0.03054346 0.02959556 0.03114029 0.03050836 0.03085943\n",
      " 0.03135093 0.03061368 0.03075411 0.02671675 0.02952535 0.0316669\n",
      " 0.03321163 0.0302275  0.03008707 0.0302626  0.0297711  0.03005196\n",
      " 0.03033282 0.03082432 0.03092964 0.03380845 0.03466703 0.03566422\n",
      " 0.03676155 0.03787147 0.03896307 0.04002723 0.04106176 0.0420666\n",
      " 0.04304251 0.04399064 0.04491242 0.04580938 0.04668312 0.0475352\n",
      " 0.04836711 0.04918024 0.04997592 0.05075531]\n",
      "18 day output [[0.05151956]]\n",
      "19 day input [0.02320601 0.02331133 0.02594439 0.02454009 0.02594439 0.02661143\n",
      " 0.02854234 0.02987642 0.03050836 0.03177222 0.03163179 0.02906895\n",
      " 0.02573375 0.02675186 0.02727847 0.02436456 0.02299537 0.02201236\n",
      " 0.02085381 0.02152085 0.0198708  0.02166128 0.02306558 0.02341665\n",
      " 0.02643589 0.02643589 0.02784019 0.02878809 0.02808594 0.02769976\n",
      " 0.0259795  0.02699761 0.030719   0.02966578 0.03559893 0.0316669\n",
      " 0.03250948 0.03665216 0.03763516 0.04146187 0.03580958 0.04005758\n",
      " 0.03756495 0.03791602 0.03700323 0.03858306 0.04090015 0.03984693\n",
      " 0.03819688 0.03865328 0.03816178 0.03868839 0.03465103 0.03524786\n",
      " 0.0354585  0.03482657 0.03310631 0.03145626 0.02949024 0.0297711\n",
      " 0.03054346 0.02959556 0.03114029 0.03050836 0.03085943 0.03135093\n",
      " 0.03061368 0.03075411 0.02671675 0.02952535 0.0316669  0.03321163\n",
      " 0.0302275  0.03008707 0.0302626  0.0297711  0.03005196 0.03033282\n",
      " 0.03082432 0.03092964 0.03380845 0.03466703 0.03566422 0.03676155\n",
      " 0.03787147 0.03896307 0.04002723 0.04106176 0.0420666  0.04304251\n",
      " 0.04399064 0.04491242 0.04580938 0.04668312 0.0475352  0.04836711\n",
      " 0.04918024 0.04997592 0.05075531 0.05151956]\n",
      "19 day output [[0.05226966]]\n",
      "20 day input [0.02331133 0.02594439 0.02454009 0.02594439 0.02661143 0.02854234\n",
      " 0.02987642 0.03050836 0.03177222 0.03163179 0.02906895 0.02573375\n",
      " 0.02675186 0.02727847 0.02436456 0.02299537 0.02201236 0.02085381\n",
      " 0.02152085 0.0198708  0.02166128 0.02306558 0.02341665 0.02643589\n",
      " 0.02643589 0.02784019 0.02878809 0.02808594 0.02769976 0.0259795\n",
      " 0.02699761 0.030719   0.02966578 0.03559893 0.0316669  0.03250948\n",
      " 0.03665216 0.03763516 0.04146187 0.03580958 0.04005758 0.03756495\n",
      " 0.03791602 0.03700323 0.03858306 0.04090015 0.03984693 0.03819688\n",
      " 0.03865328 0.03816178 0.03868839 0.03465103 0.03524786 0.0354585\n",
      " 0.03482657 0.03310631 0.03145626 0.02949024 0.0297711  0.03054346\n",
      " 0.02959556 0.03114029 0.03050836 0.03085943 0.03135093 0.03061368\n",
      " 0.03075411 0.02671675 0.02952535 0.0316669  0.03321163 0.0302275\n",
      " 0.03008707 0.0302626  0.0297711  0.03005196 0.03033282 0.03082432\n",
      " 0.03092964 0.03380845 0.03466703 0.03566422 0.03676155 0.03787147\n",
      " 0.03896307 0.04002723 0.04106176 0.0420666  0.04304251 0.04399064\n",
      " 0.04491242 0.04580938 0.04668312 0.0475352  0.04836711 0.04918024\n",
      " 0.04997592 0.05075531 0.05151956 0.05226966]\n",
      "20 day output [[0.05300655]]\n",
      "21 day input [0.02594439 0.02454009 0.02594439 0.02661143 0.02854234 0.02987642\n",
      " 0.03050836 0.03177222 0.03163179 0.02906895 0.02573375 0.02675186\n",
      " 0.02727847 0.02436456 0.02299537 0.02201236 0.02085381 0.02152085\n",
      " 0.0198708  0.02166128 0.02306558 0.02341665 0.02643589 0.02643589\n",
      " 0.02784019 0.02878809 0.02808594 0.02769976 0.0259795  0.02699761\n",
      " 0.030719   0.02966578 0.03559893 0.0316669  0.03250948 0.03665216\n",
      " 0.03763516 0.04146187 0.03580958 0.04005758 0.03756495 0.03791602\n",
      " 0.03700323 0.03858306 0.04090015 0.03984693 0.03819688 0.03865328\n",
      " 0.03816178 0.03868839 0.03465103 0.03524786 0.0354585  0.03482657\n",
      " 0.03310631 0.03145626 0.02949024 0.0297711  0.03054346 0.02959556\n",
      " 0.03114029 0.03050836 0.03085943 0.03135093 0.03061368 0.03075411\n",
      " 0.02671675 0.02952535 0.0316669  0.03321163 0.0302275  0.03008707\n",
      " 0.0302626  0.0297711  0.03005196 0.03033282 0.03082432 0.03092964\n",
      " 0.03380845 0.03466703 0.03566422 0.03676155 0.03787147 0.03896307\n",
      " 0.04002723 0.04106176 0.0420666  0.04304251 0.04399064 0.04491242\n",
      " 0.04580938 0.04668312 0.0475352  0.04836711 0.04918024 0.04997592\n",
      " 0.05075531 0.05151956 0.05226966 0.05300655]\n"
     ]
    },
    {
     "name": "stdout",
     "output_type": "stream",
     "text": [
      "21 day output [[0.05373102]]\n",
      "22 day input [0.02454009 0.02594439 0.02661143 0.02854234 0.02987642 0.03050836\n",
      " 0.03177222 0.03163179 0.02906895 0.02573375 0.02675186 0.02727847\n",
      " 0.02436456 0.02299537 0.02201236 0.02085381 0.02152085 0.0198708\n",
      " 0.02166128 0.02306558 0.02341665 0.02643589 0.02643589 0.02784019\n",
      " 0.02878809 0.02808594 0.02769976 0.0259795  0.02699761 0.030719\n",
      " 0.02966578 0.03559893 0.0316669  0.03250948 0.03665216 0.03763516\n",
      " 0.04146187 0.03580958 0.04005758 0.03756495 0.03791602 0.03700323\n",
      " 0.03858306 0.04090015 0.03984693 0.03819688 0.03865328 0.03816178\n",
      " 0.03868839 0.03465103 0.03524786 0.0354585  0.03482657 0.03310631\n",
      " 0.03145626 0.02949024 0.0297711  0.03054346 0.02959556 0.03114029\n",
      " 0.03050836 0.03085943 0.03135093 0.03061368 0.03075411 0.02671675\n",
      " 0.02952535 0.0316669  0.03321163 0.0302275  0.03008707 0.0302626\n",
      " 0.0297711  0.03005196 0.03033282 0.03082432 0.03092964 0.03380845\n",
      " 0.03466703 0.03566422 0.03676155 0.03787147 0.03896307 0.04002723\n",
      " 0.04106176 0.0420666  0.04304251 0.04399064 0.04491242 0.04580938\n",
      " 0.04668312 0.0475352  0.04836711 0.04918024 0.04997592 0.05075531\n",
      " 0.05151956 0.05226966 0.05300655 0.05373102]\n",
      "22 day output [[0.05444389]]\n",
      "23 day input [0.02594439 0.02661143 0.02854234 0.02987642 0.03050836 0.03177222\n",
      " 0.03163179 0.02906895 0.02573375 0.02675186 0.02727847 0.02436456\n",
      " 0.02299537 0.02201236 0.02085381 0.02152085 0.0198708  0.02166128\n",
      " 0.02306558 0.02341665 0.02643589 0.02643589 0.02784019 0.02878809\n",
      " 0.02808594 0.02769976 0.0259795  0.02699761 0.030719   0.02966578\n",
      " 0.03559893 0.0316669  0.03250948 0.03665216 0.03763516 0.04146187\n",
      " 0.03580958 0.04005758 0.03756495 0.03791602 0.03700323 0.03858306\n",
      " 0.04090015 0.03984693 0.03819688 0.03865328 0.03816178 0.03868839\n",
      " 0.03465103 0.03524786 0.0354585  0.03482657 0.03310631 0.03145626\n",
      " 0.02949024 0.0297711  0.03054346 0.02959556 0.03114029 0.03050836\n",
      " 0.03085943 0.03135093 0.03061368 0.03075411 0.02671675 0.02952535\n",
      " 0.0316669  0.03321163 0.0302275  0.03008707 0.0302626  0.0297711\n",
      " 0.03005196 0.03033282 0.03082432 0.03092964 0.03380845 0.03466703\n",
      " 0.03566422 0.03676155 0.03787147 0.03896307 0.04002723 0.04106176\n",
      " 0.0420666  0.04304251 0.04399064 0.04491242 0.04580938 0.04668312\n",
      " 0.0475352  0.04836711 0.04918024 0.04997592 0.05075531 0.05151956\n",
      " 0.05226966 0.05300655 0.05373102 0.05444389]\n",
      "23 day output [[0.05514585]]\n",
      "24 day input [0.02661143 0.02854234 0.02987642 0.03050836 0.03177222 0.03163179\n",
      " 0.02906895 0.02573375 0.02675186 0.02727847 0.02436456 0.02299537\n",
      " 0.02201236 0.02085381 0.02152085 0.0198708  0.02166128 0.02306558\n",
      " 0.02341665 0.02643589 0.02643589 0.02784019 0.02878809 0.02808594\n",
      " 0.02769976 0.0259795  0.02699761 0.030719   0.02966578 0.03559893\n",
      " 0.0316669  0.03250948 0.03665216 0.03763516 0.04146187 0.03580958\n",
      " 0.04005758 0.03756495 0.03791602 0.03700323 0.03858306 0.04090015\n",
      " 0.03984693 0.03819688 0.03865328 0.03816178 0.03868839 0.03465103\n",
      " 0.03524786 0.0354585  0.03482657 0.03310631 0.03145626 0.02949024\n",
      " 0.0297711  0.03054346 0.02959556 0.03114029 0.03050836 0.03085943\n",
      " 0.03135093 0.03061368 0.03075411 0.02671675 0.02952535 0.0316669\n",
      " 0.03321163 0.0302275  0.03008707 0.0302626  0.0297711  0.03005196\n",
      " 0.03033282 0.03082432 0.03092964 0.03380845 0.03466703 0.03566422\n",
      " 0.03676155 0.03787147 0.03896307 0.04002723 0.04106176 0.0420666\n",
      " 0.04304251 0.04399064 0.04491242 0.04580938 0.04668312 0.0475352\n",
      " 0.04836711 0.04918024 0.04997592 0.05075531 0.05151956 0.05226966\n",
      " 0.05300655 0.05373102 0.05444389 0.05514585]\n",
      "24 day output [[0.0558375]]\n",
      "25 day input [0.02854234 0.02987642 0.03050836 0.03177222 0.03163179 0.02906895\n",
      " 0.02573375 0.02675186 0.02727847 0.02436456 0.02299537 0.02201236\n",
      " 0.02085381 0.02152085 0.0198708  0.02166128 0.02306558 0.02341665\n",
      " 0.02643589 0.02643589 0.02784019 0.02878809 0.02808594 0.02769976\n",
      " 0.0259795  0.02699761 0.030719   0.02966578 0.03559893 0.0316669\n",
      " 0.03250948 0.03665216 0.03763516 0.04146187 0.03580958 0.04005758\n",
      " 0.03756495 0.03791602 0.03700323 0.03858306 0.04090015 0.03984693\n",
      " 0.03819688 0.03865328 0.03816178 0.03868839 0.03465103 0.03524786\n",
      " 0.0354585  0.03482657 0.03310631 0.03145626 0.02949024 0.0297711\n",
      " 0.03054346 0.02959556 0.03114029 0.03050836 0.03085943 0.03135093\n",
      " 0.03061368 0.03075411 0.02671675 0.02952535 0.0316669  0.03321163\n",
      " 0.0302275  0.03008707 0.0302626  0.0297711  0.03005196 0.03033282\n",
      " 0.03082432 0.03092964 0.03380845 0.03466703 0.03566422 0.03676155\n",
      " 0.03787147 0.03896307 0.04002723 0.04106176 0.0420666  0.04304251\n",
      " 0.04399064 0.04491242 0.04580938 0.04668312 0.0475352  0.04836711\n",
      " 0.04918024 0.04997592 0.05075531 0.05151956 0.05226966 0.05300655\n",
      " 0.05373102 0.05444389 0.05514585 0.0558375 ]\n",
      "25 day output [[0.0565194]]\n",
      "26 day input [0.02987642 0.03050836 0.03177222 0.03163179 0.02906895 0.02573375\n",
      " 0.02675186 0.02727847 0.02436456 0.02299537 0.02201236 0.02085381\n",
      " 0.02152085 0.0198708  0.02166128 0.02306558 0.02341665 0.02643589\n",
      " 0.02643589 0.02784019 0.02878809 0.02808594 0.02769976 0.0259795\n",
      " 0.02699761 0.030719   0.02966578 0.03559893 0.0316669  0.03250948\n",
      " 0.03665216 0.03763516 0.04146187 0.03580958 0.04005758 0.03756495\n",
      " 0.03791602 0.03700323 0.03858306 0.04090015 0.03984693 0.03819688\n",
      " 0.03865328 0.03816178 0.03868839 0.03465103 0.03524786 0.0354585\n",
      " 0.03482657 0.03310631 0.03145626 0.02949024 0.0297711  0.03054346\n",
      " 0.02959556 0.03114029 0.03050836 0.03085943 0.03135093 0.03061368\n",
      " 0.03075411 0.02671675 0.02952535 0.0316669  0.03321163 0.0302275\n",
      " 0.03008707 0.0302626  0.0297711  0.03005196 0.03033282 0.03082432\n",
      " 0.03092964 0.03380845 0.03466703 0.03566422 0.03676155 0.03787147\n",
      " 0.03896307 0.04002723 0.04106176 0.0420666  0.04304251 0.04399064\n",
      " 0.04491242 0.04580938 0.04668312 0.0475352  0.04836711 0.04918024\n",
      " 0.04997592 0.05075531 0.05151956 0.05226966 0.05300655 0.05373102\n",
      " 0.05444389 0.05514585 0.0558375  0.0565194 ]\n",
      "26 day output [[0.05719209]]\n",
      "27 day input [0.03050836 0.03177222 0.03163179 0.02906895 0.02573375 0.02675186\n",
      " 0.02727847 0.02436456 0.02299537 0.02201236 0.02085381 0.02152085\n",
      " 0.0198708  0.02166128 0.02306558 0.02341665 0.02643589 0.02643589\n",
      " 0.02784019 0.02878809 0.02808594 0.02769976 0.0259795  0.02699761\n",
      " 0.030719   0.02966578 0.03559893 0.0316669  0.03250948 0.03665216\n",
      " 0.03763516 0.04146187 0.03580958 0.04005758 0.03756495 0.03791602\n",
      " 0.03700323 0.03858306 0.04090015 0.03984693 0.03819688 0.03865328\n",
      " 0.03816178 0.03868839 0.03465103 0.03524786 0.0354585  0.03482657\n",
      " 0.03310631 0.03145626 0.02949024 0.0297711  0.03054346 0.02959556\n",
      " 0.03114029 0.03050836 0.03085943 0.03135093 0.03061368 0.03075411\n",
      " 0.02671675 0.02952535 0.0316669  0.03321163 0.0302275  0.03008707\n",
      " 0.0302626  0.0297711  0.03005196 0.03033282 0.03082432 0.03092964\n",
      " 0.03380845 0.03466703 0.03566422 0.03676155 0.03787147 0.03896307\n",
      " 0.04002723 0.04106176 0.0420666  0.04304251 0.04399064 0.04491242\n",
      " 0.04580938 0.04668312 0.0475352  0.04836711 0.04918024 0.04997592\n",
      " 0.05075531 0.05151956 0.05226966 0.05300655 0.05373102 0.05444389\n",
      " 0.05514585 0.0558375  0.0565194  0.05719209]\n",
      "27 day output [[0.057856]]\n",
      "28 day input [0.03177222 0.03163179 0.02906895 0.02573375 0.02675186 0.02727847\n",
      " 0.02436456 0.02299537 0.02201236 0.02085381 0.02152085 0.0198708\n",
      " 0.02166128 0.02306558 0.02341665 0.02643589 0.02643589 0.02784019\n",
      " 0.02878809 0.02808594 0.02769976 0.0259795  0.02699761 0.030719\n",
      " 0.02966578 0.03559893 0.0316669  0.03250948 0.03665216 0.03763516\n",
      " 0.04146187 0.03580958 0.04005758 0.03756495 0.03791602 0.03700323\n",
      " 0.03858306 0.04090015 0.03984693 0.03819688 0.03865328 0.03816178\n",
      " 0.03868839 0.03465103 0.03524786 0.0354585  0.03482657 0.03310631\n",
      " 0.03145626 0.02949024 0.0297711  0.03054346 0.02959556 0.03114029\n",
      " 0.03050836 0.03085943 0.03135093 0.03061368 0.03075411 0.02671675\n",
      " 0.02952535 0.0316669  0.03321163 0.0302275  0.03008707 0.0302626\n",
      " 0.0297711  0.03005196 0.03033282 0.03082432 0.03092964 0.03380845\n",
      " 0.03466703 0.03566422 0.03676155 0.03787147 0.03896307 0.04002723\n",
      " 0.04106176 0.0420666  0.04304251 0.04399064 0.04491242 0.04580938\n",
      " 0.04668312 0.0475352  0.04836711 0.04918024 0.04997592 0.05075531\n",
      " 0.05151956 0.05226966 0.05300655 0.05373102 0.05444389 0.05514585\n",
      " 0.0558375  0.0565194  0.05719209 0.057856  ]\n",
      "28 day output [[0.05851152]]\n",
      "29 day input [0.03163179 0.02906895 0.02573375 0.02675186 0.02727847 0.02436456\n",
      " 0.02299537 0.02201236 0.02085381 0.02152085 0.0198708  0.02166128\n",
      " 0.02306558 0.02341665 0.02643589 0.02643589 0.02784019 0.02878809\n",
      " 0.02808594 0.02769976 0.0259795  0.02699761 0.030719   0.02966578\n",
      " 0.03559893 0.0316669  0.03250948 0.03665216 0.03763516 0.04146187\n",
      " 0.03580958 0.04005758 0.03756495 0.03791602 0.03700323 0.03858306\n",
      " 0.04090015 0.03984693 0.03819688 0.03865328 0.03816178 0.03868839\n",
      " 0.03465103 0.03524786 0.0354585  0.03482657 0.03310631 0.03145626\n",
      " 0.02949024 0.0297711  0.03054346 0.02959556 0.03114029 0.03050836\n",
      " 0.03085943 0.03135093 0.03061368 0.03075411 0.02671675 0.02952535\n",
      " 0.0316669  0.03321163 0.0302275  0.03008707 0.0302626  0.0297711\n",
      " 0.03005196 0.03033282 0.03082432 0.03092964 0.03380845 0.03466703\n",
      " 0.03566422 0.03676155 0.03787147 0.03896307 0.04002723 0.04106176\n",
      " 0.0420666  0.04304251 0.04399064 0.04491242 0.04580938 0.04668312\n",
      " 0.0475352  0.04836711 0.04918024 0.04997592 0.05075531 0.05151956\n",
      " 0.05226966 0.05300655 0.05373102 0.05444389 0.05514585 0.0558375\n",
      " 0.0565194  0.05719209 0.057856   0.05851152]\n"
     ]
    },
    {
     "name": "stdout",
     "output_type": "stream",
     "text": [
      "29 day output [[0.059159]]\n",
      "[[0.03466702625155449], [0.03566421568393707], [0.03676155209541321], [0.03787147253751755], [0.03896307200193405], [0.040027227252721786], [0.04106175899505615], [0.042066603899002075], [0.043042510747909546], [0.043990641832351685], [0.044912420213222504], [0.04580938071012497], [0.046683117747306824], [0.04753519594669342], [0.048367105424404144], [0.04918024316430092], [0.0499759204685688], [0.05075531080365181], [0.05151956155896187], [0.05226965621113777], [0.053006548434495926], [0.05373101681470871], [0.05444389209151268], [0.05514584854245186], [0.05583749711513519], [0.05651940405368805], [0.05719209462404251], [0.0578560046851635], [0.05851152166724205], [0.05915900319814682]]\n"
     ]
    }
   ],
   "source": [
    "# demonstrate prediction for next 10 days\n",
    "from numpy import array\n",
    "\n",
    "lst_output=[]\n",
    "n_steps=100\n",
    "i=0\n",
    "while(i<30):\n",
    "    \n",
    "    if(len(temp_input)>100):\n",
    "        #print(temp_input)\n",
    "        x_input=np.array(temp_input[1:])\n",
    "        print(\"{} day input {}\".format(i,x_input))\n",
    "        x_input=x_input.reshape(1,-1)\n",
    "        x_input = x_input.reshape((1, n_steps, 1))\n",
    "        #print(x_input)\n",
    "        yhat = model.predict(x_input, verbose=0)\n",
    "        print(\"{} day output {}\".format(i,yhat))\n",
    "        temp_input.extend(yhat[0].tolist())\n",
    "        temp_input=temp_input[1:]\n",
    "        #print(temp_input)\n",
    "        lst_output.extend(yhat.tolist())\n",
    "        i=i+1\n",
    "    else:\n",
    "        x_input = x_input.reshape((1, n_steps,1))\n",
    "        yhat = model.predict(x_input, verbose=0)\n",
    "        print(yhat[0])\n",
    "        temp_input.extend(yhat[0].tolist())\n",
    "        print(len(temp_input))\n",
    "        lst_output.extend(yhat.tolist())\n",
    "        i=i+1\n",
    "    \n",
    "\n",
    "print(lst_output)"
   ]
  },
  {
   "cell_type": "code",
   "execution_count": 45,
   "metadata": {},
   "outputs": [],
   "source": [
    "day_new=np.arange(1,101)\n",
    "day_pred=np.arange(101,131)"
   ]
  },
  {
   "cell_type": "code",
   "execution_count": 46,
   "metadata": {},
   "outputs": [],
   "source": [
    "import matplotlib.pyplot as plt"
   ]
  },
  {
   "cell_type": "code",
   "execution_count": 47,
   "metadata": {},
   "outputs": [
    {
     "data": {
      "text/plain": [
       "5306"
      ]
     },
     "execution_count": 47,
     "metadata": {},
     "output_type": "execute_result"
    }
   ],
   "source": [
    "len(df1)"
   ]
  },
  {
   "cell_type": "code",
   "execution_count": null,
   "metadata": {},
   "outputs": [],
   "source": []
  },
  {
   "cell_type": "code",
   "execution_count": 53,
   "metadata": {},
   "outputs": [
    {
     "data": {
      "text/plain": [
       "[<matplotlib.lines.Line2D at 0x27fb5ddf6a0>]"
      ]
     },
     "execution_count": 53,
     "metadata": {},
     "output_type": "execute_result"
    },
    {
     "data": {
      "image/png": "[encoded data removed]",
      "text/plain": [
       "<Figure size 432x288 with 1 Axes>"
      ]
     },
     "metadata": {
      "needs_background": "light"
     },
     "output_type": "display_data"
    }
   ],
   "source": [
    "plt.plot(day_new,scaler.inverse_transform(df1[5206:]))\n",
    "plt.plot(day_pred,scaler.inverse_transform(lst_output))"
   ]
  },
  {
   "cell_type": "code",
   "execution_count": 50,
   "metadata": {},
   "outputs": [
    {
     "data": {
      "text/plain": [
       "[<matplotlib.lines.Line2D at 0x27fb5c96610>]"
      ]
     },
     "execution_count": 50,
     "metadata": {},
     "output_type": "execute_result"
    },
    {
     "data": {
      "image/png": "[encoded data removed]",
      "text/plain": [
       "<Figure size 432x288 with 1 Axes>"
      ]
     },
     "metadata": {
      "needs_background": "light"
     },
     "output_type": "display_data"
    }
   ],
   "source": [
    "df3=df1.tolist()\n",
    "df3.extend(lst_output)\n",
    "plt.plot(df3[1200:])"
   ]
  },
  {
   "cell_type": "code",
   "execution_count": null,
   "metadata": {},
   "outputs": [],
   "source": [
    "df3=scaler.inverse_transform(df3).tolist()"
   ]
  },
  {
   "cell_type": "code",
   "execution_count": 51,
   "metadata": {},
   "outputs": [
    {
     "data": {
      "text/plain": [
       "[<matplotlib.lines.Line2D at 0x27fb5ceb490>]"
      ]
     },
     "execution_count": 51,
     "metadata": {},
     "output_type": "execute_result"
    },
    {
     "data": {
      "image/png": "[encoded data removed]",
      "text/plain": [
       "<Figure size 432x288 with 1 Axes>"
      ]
     },
     "metadata": {
      "needs_background": "light"
     },
     "output_type": "display_data"
    }
   ],
   "source": [
    "plt.plot(df3)"
   ]
  },
  {
   "cell_type": "code",
   "execution_count": null,
   "metadata": {},
   "outputs": [],
   "source": []
  },
  {
   "cell_type": "code",
   "execution_count": null,
   "metadata": {},
   "outputs": [],
   "source": []
  }
 ],
 "metadata": {
  "kernelspec": {
   "display_name": "Python 3 (ipykernel)",
   "language": "python",
   "name": "python3"
  },
  "language_info": {
   "codemirror_mode": {
    "name": "ipython",
    "version": 3
   },
   "file_extension": ".py",
   "mimetype": "text/x-python",
   "name": "python",
   "nbconvert_exporter": "python",
   "pygments_lexer": "ipython3",
   "version": "3.9.12"
  }
 },
 "nbformat": 4,
 "nbformat_minor": 2
}
